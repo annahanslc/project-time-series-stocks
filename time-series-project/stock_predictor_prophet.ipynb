{
 "cells": [
  {
   "cell_type": "markdown",
   "metadata": {},
   "source": [
    "# Create a stock predictor to be uploaded to streamlit"
   ]
  },
  {
   "cell_type": "code",
   "execution_count": 29,
   "metadata": {},
   "outputs": [
    {
     "name": "stderr",
     "output_type": "stream",
     "text": [
      "/Users/annahan/Documents/GitHub/learning-fuze/live_class_W1D2_0125/.conda/lib/python3.12/site-packages/tqdm/auto.py:21: TqdmWarning: IProgress not found. Please update jupyter and ipywidgets. See https://ipywidgets.readthedocs.io/en/stable/user_install.html\n",
      "  from .autonotebook import tqdm as notebook_tqdm\n"
     ]
    }
   ],
   "source": [
    "# import\n",
    "\n",
    "import yfinance as yf\n",
    "\n",
    "import pandas as pd\n",
    "import numpy as np\n",
    "import matplotlib.pyplot as plt\n",
    "import datetime\n",
    "from dateutil.relativedelta import relativedelta\n",
    "\n",
    "from sklearn.model_selection import train_test_split\n",
    "from sklearn.metrics import root_mean_squared_error\n",
    "\n",
    "from prophet import Prophet\n",
    "from statsmodels.graphics.tsaplots import plot_acf, plot_pacf\n",
    "from statsmodels.tsa.stattools import adfuller\n",
    "from statsmodels.tsa.seasonal import seasonal_decompose\n",
    "from statsmodels.tsa.arima.model import ARIMA\n",
    "import pmdarima as pm\n",
    "\n",
    "from scipy.signal import find_peaks, periodogram\n",
    "\n",
    "import sqlite3"
   ]
  },
  {
   "cell_type": "markdown",
   "metadata": {},
   "source": [
    "# Define Functions"
   ]
  },
  {
   "cell_type": "markdown",
   "metadata": {},
   "source": [
    "### Function: get_data()"
   ]
  },
  {
   "cell_type": "code",
   "execution_count": 6,
   "metadata": {},
   "outputs": [],
   "source": [
    "# define a function to get the data\n",
    "\n",
    "def get_data(ticker):\n",
    "  # download most recent 1 year of prices from yfinance\n",
    "  ticker = ticker\n",
    "  start_date = datetime.date.today() - relativedelta(years=3)\n",
    "  end_date = datetime.date.today()\n",
    "  data = yf.download(ticker, start=start_date, end=end_date)\n",
    "\n",
    "  # remove multi-index\n",
    "  data = data.droplevel(level=1, axis=1).reset_index()\n",
    "\n",
    "  # create a dataframe with just the Date and Close price\n",
    "  close = pd.DataFrame(columns=['Date', 'Close'])\n",
    "  close['Date'] = data['Date']\n",
    "  close['Close'] = data['Close']\n",
    "  close = close.set_index('Date')\n",
    "\n",
    "  # manually set the frequency to business days, and fill missing dates with forward fill\n",
    "  close = close.asfreq('B')\n",
    "  close['Close'] = close['Close'].fillna(method='ffill')\n",
    "\n",
    "  return close"
   ]
  },
  {
   "cell_type": "code",
   "execution_count": 7,
   "metadata": {},
   "outputs": [
    {
     "name": "stdout",
     "output_type": "stream",
     "text": [
      "YF.download() has changed argument auto_adjust default to True\n"
     ]
    },
    {
     "name": "stderr",
     "output_type": "stream",
     "text": [
      "[*********************100%***********************]  1 of 1 completed\n",
      "/var/folders/bh/crnltg950_n8l07mfm97qdtc0000gn/T/ipykernel_38936/3922349375.py:21: FutureWarning: Series.fillna with 'method' is deprecated and will raise in a future version. Use obj.ffill() or obj.bfill() instead.\n",
      "  close['Close'] = close['Close'].fillna(method='ffill')\n"
     ]
    },
    {
     "data": {
      "text/html": [
       "<div>\n",
       "<style scoped>\n",
       "    .dataframe tbody tr th:only-of-type {\n",
       "        vertical-align: middle;\n",
       "    }\n",
       "\n",
       "    .dataframe tbody tr th {\n",
       "        vertical-align: top;\n",
       "    }\n",
       "\n",
       "    .dataframe thead th {\n",
       "        text-align: right;\n",
       "    }\n",
       "</style>\n",
       "<table border=\"1\" class=\"dataframe\">\n",
       "  <thead>\n",
       "    <tr style=\"text-align: right;\">\n",
       "      <th></th>\n",
       "      <th>Close</th>\n",
       "    </tr>\n",
       "    <tr>\n",
       "      <th>Date</th>\n",
       "      <th></th>\n",
       "    </tr>\n",
       "  </thead>\n",
       "  <tbody>\n",
       "    <tr>\n",
       "      <th>2022-04-04</th>\n",
       "      <td>38.695847</td>\n",
       "    </tr>\n",
       "    <tr>\n",
       "      <th>2022-04-05</th>\n",
       "      <td>38.332462</td>\n",
       "    </tr>\n",
       "    <tr>\n",
       "      <th>2022-04-06</th>\n",
       "      <td>36.918194</td>\n",
       "    </tr>\n",
       "    <tr>\n",
       "      <th>2022-04-07</th>\n",
       "      <td>36.466419</td>\n",
       "    </tr>\n",
       "    <tr>\n",
       "      <th>2022-04-08</th>\n",
       "      <td>36.083385</td>\n",
       "    </tr>\n",
       "    <tr>\n",
       "      <th>...</th>\n",
       "      <td>...</td>\n",
       "    </tr>\n",
       "    <tr>\n",
       "      <th>2025-03-27</th>\n",
       "      <td>46.150002</td>\n",
       "    </tr>\n",
       "    <tr>\n",
       "      <th>2025-03-28</th>\n",
       "      <td>43.840000</td>\n",
       "    </tr>\n",
       "    <tr>\n",
       "      <th>2025-03-31</th>\n",
       "      <td>43.599998</td>\n",
       "    </tr>\n",
       "    <tr>\n",
       "      <th>2025-04-01</th>\n",
       "      <td>42.419998</td>\n",
       "    </tr>\n",
       "    <tr>\n",
       "      <th>2025-04-02</th>\n",
       "      <td>43.369999</td>\n",
       "    </tr>\n",
       "  </tbody>\n",
       "</table>\n",
       "<p>783 rows × 1 columns</p>\n",
       "</div>"
      ],
      "text/plain": [
       "                Close\n",
       "Date                 \n",
       "2022-04-04  38.695847\n",
       "2022-04-05  38.332462\n",
       "2022-04-06  36.918194\n",
       "2022-04-07  36.466419\n",
       "2022-04-08  36.083385\n",
       "...               ...\n",
       "2025-03-27  46.150002\n",
       "2025-03-28  43.840000\n",
       "2025-03-31  43.599998\n",
       "2025-04-01  42.419998\n",
       "2025-04-02  43.369999\n",
       "\n",
       "[783 rows x 1 columns]"
      ]
     },
     "execution_count": 7,
     "metadata": {},
     "output_type": "execute_result"
    }
   ],
   "source": [
    "# check get_data function\n",
    "close = get_data('DAL')\n",
    "close"
   ]
  },
  {
   "cell_type": "code",
   "execution_count": 8,
   "metadata": {},
   "outputs": [
    {
     "name": "stdout",
     "output_type": "stream",
     "text": [
      "<class 'pandas.core.frame.DataFrame'>\n",
      "DatetimeIndex: 783 entries, 2022-04-04 to 2025-04-02\n",
      "Freq: B\n",
      "Data columns (total 1 columns):\n",
      " #   Column  Non-Null Count  Dtype  \n",
      "---  ------  --------------  -----  \n",
      " 0   Close   783 non-null    float64\n",
      "dtypes: float64(1)\n",
      "memory usage: 12.2 KB\n"
     ]
    }
   ],
   "source": [
    "# check the dataframe's info to ensure index type is datetime, frequency is B\n",
    "close.info()"
   ]
  },
  {
   "cell_type": "markdown",
   "metadata": {},
   "source": [
    "### Function: transform_log_season()"
   ]
  },
  {
   "cell_type": "code",
   "execution_count": 9,
   "metadata": {},
   "outputs": [],
   "source": [
    "# define a function to make the data stationary\n",
    "\n",
    "def transform_log(close):\n",
    "  # remove non-constant variance by taking the log of the data\n",
    "  close_log = close.copy()\n",
    "  close_log['Close'] = np.log(close['Close'])\n",
    "\n",
    "  return close_log"
   ]
  },
  {
   "cell_type": "code",
   "execution_count": 10,
   "metadata": {},
   "outputs": [
    {
     "data": {
      "text/html": [
       "<div>\n",
       "<style scoped>\n",
       "    .dataframe tbody tr th:only-of-type {\n",
       "        vertical-align: middle;\n",
       "    }\n",
       "\n",
       "    .dataframe tbody tr th {\n",
       "        vertical-align: top;\n",
       "    }\n",
       "\n",
       "    .dataframe thead th {\n",
       "        text-align: right;\n",
       "    }\n",
       "</style>\n",
       "<table border=\"1\" class=\"dataframe\">\n",
       "  <thead>\n",
       "    <tr style=\"text-align: right;\">\n",
       "      <th></th>\n",
       "      <th>Close</th>\n",
       "    </tr>\n",
       "    <tr>\n",
       "      <th>Date</th>\n",
       "      <th></th>\n",
       "    </tr>\n",
       "  </thead>\n",
       "  <tbody>\n",
       "    <tr>\n",
       "      <th>2022-04-04</th>\n",
       "      <td>3.655732</td>\n",
       "    </tr>\n",
       "    <tr>\n",
       "      <th>2022-04-05</th>\n",
       "      <td>3.646297</td>\n",
       "    </tr>\n",
       "    <tr>\n",
       "      <th>2022-04-06</th>\n",
       "      <td>3.608704</td>\n",
       "    </tr>\n",
       "    <tr>\n",
       "      <th>2022-04-07</th>\n",
       "      <td>3.596392</td>\n",
       "    </tr>\n",
       "    <tr>\n",
       "      <th>2022-04-08</th>\n",
       "      <td>3.585833</td>\n",
       "    </tr>\n",
       "    <tr>\n",
       "      <th>...</th>\n",
       "      <td>...</td>\n",
       "    </tr>\n",
       "    <tr>\n",
       "      <th>2025-03-27</th>\n",
       "      <td>3.831897</td>\n",
       "    </tr>\n",
       "    <tr>\n",
       "      <th>2025-03-28</th>\n",
       "      <td>3.780547</td>\n",
       "    </tr>\n",
       "    <tr>\n",
       "      <th>2025-03-31</th>\n",
       "      <td>3.775057</td>\n",
       "    </tr>\n",
       "    <tr>\n",
       "      <th>2025-04-01</th>\n",
       "      <td>3.747620</td>\n",
       "    </tr>\n",
       "    <tr>\n",
       "      <th>2025-04-02</th>\n",
       "      <td>3.769768</td>\n",
       "    </tr>\n",
       "  </tbody>\n",
       "</table>\n",
       "<p>783 rows × 1 columns</p>\n",
       "</div>"
      ],
      "text/plain": [
       "               Close\n",
       "Date                \n",
       "2022-04-04  3.655732\n",
       "2022-04-05  3.646297\n",
       "2022-04-06  3.608704\n",
       "2022-04-07  3.596392\n",
       "2022-04-08  3.585833\n",
       "...              ...\n",
       "2025-03-27  3.831897\n",
       "2025-03-28  3.780547\n",
       "2025-03-31  3.775057\n",
       "2025-04-01  3.747620\n",
       "2025-04-02  3.769768\n",
       "\n",
       "[783 rows x 1 columns]"
      ]
     },
     "execution_count": 10,
     "metadata": {},
     "output_type": "execute_result"
    }
   ],
   "source": [
    "# check the transform_log_season function\n",
    "close_log = transform_log(close)\n",
    "\n",
    "# check the transformed dataframe\n",
    "close_log"
   ]
  },
  {
   "cell_type": "markdown",
   "metadata": {},
   "source": [
    "### Function: search_prophet()"
   ]
  },
  {
   "cell_type": "code",
   "execution_count": 13,
   "metadata": {},
   "outputs": [],
   "source": [
    "# define a function to search for the best prophet hyperparameters\n"
   ]
  },
  {
   "cell_type": "code",
   "execution_count": 31,
   "metadata": {},
   "outputs": [],
   "source": [
    "# create a function to try different hyperparameters in the prophet model and then loop over it\n",
    "\n",
    "def prophet_search(close_log, changepoint_prior_scale, seasonality_prior_scale):\n",
    "  train, test = train_test_split(close_log['Close'].dropna(), test_size=30, shuffle=False)\n",
    "\n",
    "  # create a model\n",
    "  m = Prophet(changepoint_prior_scale=changepoint_prior_scale, seasonality_prior_scale=seasonality_prior_scale)\n",
    "  prophet_train = np.exp(train).reset_index()\n",
    "\n",
    "  # rename the columns to ds and y\n",
    "  prophet_train.columns = ['ds', 'y']\n",
    "  prophet_train\n",
    "\n",
    "  # fit the data\n",
    "  m.fit(prophet_train)\n",
    "\n",
    "  future = m.make_future_dataframe(periods=len(test), freq='B')\n",
    "  forecast = m.predict(future)\n",
    "\n",
    "  # predict the train\n",
    "  train_forecast = m.predict(prophet_train[['ds']])\n",
    "\n",
    "  # merge actual (exp(train)) and predicted (yhat) by 'ds'\n",
    "  m_train_preds = prophet_train[['ds']].copy()\n",
    "  m_train_preds['train'] = np.exp(train.values)\n",
    "  m_train_preds = m_train_preds.merge(train_forecast[['ds', 'yhat']], on='ds', how='left')\n",
    "  m_train_preds.rename(columns={'yhat': 'm_train_pred'}, inplace=True)\n",
    "\n",
    "  # save the predictions for only the test time period\n",
    "  m_test_preds = [forecast.loc[forecast['ds'] == month, 'yhat'].values[0] for month in test.index]\n",
    "\n",
    "  # save the predictions in a dataframe\n",
    "  m_test_results = pd.DataFrame(columns = ['test', 'm_test_pred'])\n",
    "  m_test_results['test'] = np.exp(test)\n",
    "  m_test_results['m_test_pred'] = m_test_preds\n",
    "\n",
    "  train_RMSE = root_mean_squared_error(m_train_preds['train'], m_train_preds['m_train_pred'])\n",
    "  test_RMSE = root_mean_squared_error(m_test_results['test'], m_test_results['m_test_pred'])\n",
    "\n",
    "  return train_RMSE, test_RMSE"
   ]
  },
  {
   "cell_type": "code",
   "execution_count": 32,
   "metadata": {},
   "outputs": [],
   "source": [
    "# use itertools.product to do a search over the hyperparameters\n",
    "\n",
    "# define the hyperparameters ranges\n",
    "\n",
    "def prophet_loop():\n",
    "  changepoint_prior_scales = [0.05, 0.1, 0.2, 0.3]\n",
    "  seasonality_prior_scales = [5.0, 10.0, 20.0]\n",
    "\n",
    "  from itertools import product\n",
    "\n",
    "  results = []\n",
    "\n",
    "  for cps, sps in product(changepoint_prior_scales, seasonality_prior_scales):\n",
    "    try:\n",
    "      train_rmse, test_rmse = prophet_search(\n",
    "        changepoint_prior_scale=cps,\n",
    "        seasonality_prior_scale=sps,\n",
    "      )\n",
    "      results.append({\n",
    "        'changepoint_prior_scales': cps,\n",
    "        'seasonality_prior_scales': sps,\n",
    "        'train_rmse': train_rmse,\n",
    "        'test_rmse': test_rmse\n",
    "      })\n",
    "    except Exception as e:\n",
    "      print(f\"Failed for cps={cps}, sps={sps} — Error: {e}\")\n",
    "\n",
    "  results_df = pd.DataFrame(results)\n",
    "\n",
    "  # Sort by test RMSE\n",
    "  best = results_df.sort_values(by='test_rmse').reset_index(drop=True)\n",
    "\n",
    "  return best[0]"
   ]
  },
  {
   "cell_type": "markdown",
   "metadata": {},
   "source": [
    "### Function: fit_all()"
   ]
  },
  {
   "cell_type": "code",
   "execution_count": 14,
   "metadata": {},
   "outputs": [],
   "source": [
    "# define a function to re-fit on ALL the data and get the best model\n",
    "\n",
    "def fit_all(pmarima, close_log, forecast_window):\n",
    "  pmarima.fit(close_log['Close'].dropna())\n",
    "  final_model = pmarima.model_\n",
    "  final_summary = final_model.summary()\n",
    "  final_predictions, final_confs = final_model.predict(n_periods=forecast_window, return_conf_int=True)\n",
    "\n",
    "  return final_predictions, final_summary, final_confs\n"
   ]
  },
  {
   "cell_type": "markdown",
   "metadata": {},
   "source": [
    "### Function: get_predictions()"
   ]
  },
  {
   "cell_type": "code",
   "execution_count": 15,
   "metadata": {},
   "outputs": [],
   "source": [
    "# function for a user to predict a stock of their choice and choose how many days to forecast\n",
    "\n",
    "def get_predictions(ticker, forecast_window):\n",
    "  close = get_data(ticker)\n",
    "  close_log = transform_log(close)\n",
    "  pmarima, train_model, train_summary, test_pred, train_confs, train, test = search_autoARIMA(close_log)\n",
    "  final_predictions, final_summary, final_confs = fit_all(pmarima, close_log, forecast_window)\n",
    "\n",
    "  predictions = np.exp(final_predictions)\n",
    "\n",
    "  return predictions"
   ]
  },
  {
   "cell_type": "code",
   "execution_count": 16,
   "metadata": {},
   "outputs": [
    {
     "name": "stderr",
     "output_type": "stream",
     "text": [
      "[*********************100%***********************]  1 of 1 completed\n",
      "/var/folders/bh/crnltg950_n8l07mfm97qdtc0000gn/T/ipykernel_38936/3922349375.py:21: FutureWarning: Series.fillna with 'method' is deprecated and will raise in a future version. Use obj.ffill() or obj.bfill() instead.\n",
      "  close['Close'] = close['Close'].fillna(method='ffill')\n"
     ]
    },
    {
     "ename": "NameError",
     "evalue": "name 'search_autoARIMA' is not defined",
     "output_type": "error",
     "traceback": [
      "\u001b[0;31m---------------------------------------------------------------------------\u001b[0m",
      "\u001b[0;31mNameError\u001b[0m                                 Traceback (most recent call last)",
      "Cell \u001b[0;32mIn[16], line 3\u001b[0m\n\u001b[1;32m      1\u001b[0m \u001b[38;5;66;03m# test the get_predictions function\u001b[39;00m\n\u001b[0;32m----> 3\u001b[0m \u001b[43mget_predictions\u001b[49m\u001b[43m(\u001b[49m\u001b[38;5;124;43m'\u001b[39;49m\u001b[38;5;124;43mDAL\u001b[39;49m\u001b[38;5;124;43m'\u001b[39;49m\u001b[43m,\u001b[49m\u001b[43m \u001b[49m\u001b[38;5;241;43m30\u001b[39;49m\u001b[43m)\u001b[49m\n",
      "Cell \u001b[0;32mIn[15], line 6\u001b[0m, in \u001b[0;36mget_predictions\u001b[0;34m(ticker, forecast_window)\u001b[0m\n\u001b[1;32m      4\u001b[0m close \u001b[38;5;241m=\u001b[39m get_data(ticker)\n\u001b[1;32m      5\u001b[0m close_log \u001b[38;5;241m=\u001b[39m transform_log(close)\n\u001b[0;32m----> 6\u001b[0m pmarima, train_model, train_summary, test_pred, train_confs, train, test \u001b[38;5;241m=\u001b[39m \u001b[43msearch_autoARIMA\u001b[49m(close_log)\n\u001b[1;32m      7\u001b[0m final_predictions, final_summary, final_confs \u001b[38;5;241m=\u001b[39m fit_all(pmarima, close_log, forecast_window)\n\u001b[1;32m      9\u001b[0m predictions \u001b[38;5;241m=\u001b[39m np\u001b[38;5;241m.\u001b[39mexp(final_predictions)\n",
      "\u001b[0;31mNameError\u001b[0m: name 'search_autoARIMA' is not defined"
     ]
    }
   ],
   "source": [
    "# test the get_predictions function\n",
    "\n",
    "get_predictions('DAL', 30)"
   ]
  },
  {
   "cell_type": "code",
   "execution_count": null,
   "metadata": {},
   "outputs": [
    {
     "name": "stderr",
     "output_type": "stream",
     "text": [
      "[*********************100%***********************]  1 of 1 completed\n",
      "/var/folders/bh/crnltg950_n8l07mfm97qdtc0000gn/T/ipykernel_56546/3922349375.py:21: FutureWarning: Series.fillna with 'method' is deprecated and will raise in a future version. Use obj.ffill() or obj.bfill() instead.\n",
      "  close['Close'] = close['Close'].fillna(method='ffill')\n"
     ]
    },
    {
     "name": "stdout",
     "output_type": "stream",
     "text": [
      "Performing stepwise search to minimize aic\n",
      " ARIMA(0,2,0)(0,0,0)[0] intercept   : AIC=-2175.009, Time=0.03 sec\n",
      " ARIMA(1,2,0)(0,0,0)[0] intercept   : AIC=-2365.828, Time=0.02 sec\n",
      " ARIMA(0,2,1)(0,0,0)[0] intercept   : AIC=inf, Time=0.17 sec\n",
      " ARIMA(0,2,0)(0,0,0)[0]             : AIC=-2177.008, Time=0.03 sec\n",
      " ARIMA(2,2,0)(0,0,0)[0] intercept   : AIC=-2413.892, Time=0.04 sec\n",
      " ARIMA(3,2,0)(0,0,0)[0] intercept   : AIC=-2435.488, Time=0.08 sec\n",
      " ARIMA(4,2,0)(0,0,0)[0] intercept   : AIC=-2473.774, Time=0.10 sec\n",
      " ARIMA(5,2,0)(0,0,0)[0] intercept   : AIC=-2503.614, Time=0.12 sec\n",
      " ARIMA(5,2,1)(0,0,0)[0] intercept   : AIC=-2600.528, Time=0.55 sec\n",
      " ARIMA(4,2,1)(0,0,0)[0] intercept   : AIC=-2621.201, Time=0.40 sec\n",
      " ARIMA(3,2,1)(0,0,0)[0] intercept   : AIC=-2619.731, Time=0.32 sec\n",
      " ARIMA(4,2,2)(0,0,0)[0] intercept   : AIC=-2612.432, Time=0.43 sec\n",
      " ARIMA(3,2,2)(0,0,0)[0] intercept   : AIC=inf, Time=0.33 sec\n",
      " ARIMA(5,2,2)(0,0,0)[0] intercept   : AIC=-2624.863, Time=0.56 sec\n",
      " ARIMA(5,2,3)(0,0,0)[0] intercept   : AIC=-2617.256, Time=0.66 sec\n",
      " ARIMA(4,2,3)(0,0,0)[0] intercept   : AIC=-2606.115, Time=0.45 sec\n",
      " ARIMA(5,2,2)(0,0,0)[0]             : AIC=inf, Time=0.44 sec\n",
      "\n",
      "Best model:  ARIMA(5,2,2)(0,0,0)[0] intercept\n",
      "Total fit time: 4.748 seconds\n",
      "Performing stepwise search to minimize aic\n",
      " ARIMA(0,1,0)(0,0,0)[0] intercept   : AIC=-2716.945, Time=0.05 sec\n",
      " ARIMA(1,1,0)(0,0,0)[0] intercept   : AIC=-2719.651, Time=0.05 sec\n",
      " ARIMA(0,1,1)(0,0,0)[0] intercept   : AIC=-2719.173, Time=0.04 sec\n",
      " ARIMA(0,1,0)(0,0,0)[0]             : AIC=-2716.683, Time=0.03 sec\n"
     ]
    },
    {
     "name": "stderr",
     "output_type": "stream",
     "text": [
      "/Users/annahan/Documents/GitHub/learning-fuze/live_class_W1D2_0125/.conda/lib/python3.12/site-packages/statsmodels/tsa/statespace/representation.py:374: FutureWarning: Unknown keyword arguments: dict_keys(['start_d']).Passing unknown keyword arguments will raise a TypeError beginning in version 0.15.\n",
      "  warnings.warn(msg, FutureWarning)\n"
     ]
    },
    {
     "name": "stdout",
     "output_type": "stream",
     "text": [
      " ARIMA(2,1,0)(0,0,0)[0] intercept   : AIC=-2719.641, Time=0.19 sec\n",
      " ARIMA(1,1,1)(0,0,0)[0] intercept   : AIC=-2718.360, Time=0.08 sec\n",
      " ARIMA(2,1,1)(0,0,0)[0] intercept   : AIC=-2715.706, Time=0.10 sec\n",
      " ARIMA(1,1,0)(0,0,0)[0]             : AIC=-2719.724, Time=0.03 sec\n",
      " ARIMA(2,1,0)(0,0,0)[0]             : AIC=-2719.910, Time=0.02 sec\n",
      " ARIMA(3,1,0)(0,0,0)[0]             : AIC=-2719.167, Time=0.04 sec\n",
      " ARIMA(2,1,1)(0,0,0)[0]             : AIC=-2718.145, Time=0.11 sec\n",
      " ARIMA(1,1,1)(0,0,0)[0]             : AIC=-2718.547, Time=0.03 sec\n",
      " ARIMA(3,1,1)(0,0,0)[0]             : AIC=-2716.889, Time=0.02 sec\n",
      "\n",
      "Best model:  ARIMA(2,1,0)(0,0,0)[0]          \n",
      "Total fit time: 0.775 seconds\n"
     ]
    },
    {
     "data": {
      "text/plain": [
       "2025-04-03    87.672881\n",
       "2025-04-04    87.838631\n",
       "2025-04-07    87.862670\n",
       "2025-04-08    87.873213\n",
       "2025-04-09    87.875260\n",
       "2025-04-10    87.875968\n",
       "2025-04-11    87.876129\n",
       "2025-04-14    87.876178\n",
       "2025-04-15    87.876190\n",
       "2025-04-16    87.876194\n",
       "2025-04-17    87.876195\n",
       "2025-04-18    87.876195\n",
       "2025-04-21    87.876195\n",
       "2025-04-22    87.876195\n",
       "2025-04-23    87.876195\n",
       "2025-04-24    87.876195\n",
       "2025-04-25    87.876195\n",
       "2025-04-28    87.876195\n",
       "2025-04-29    87.876195\n",
       "2025-04-30    87.876195\n",
       "2025-05-01    87.876195\n",
       "2025-05-02    87.876195\n",
       "2025-05-05    87.876195\n",
       "2025-05-06    87.876195\n",
       "2025-05-07    87.876195\n",
       "2025-05-08    87.876195\n",
       "2025-05-09    87.876195\n",
       "2025-05-12    87.876195\n",
       "2025-05-13    87.876195\n",
       "2025-05-14    87.876195\n",
       "Freq: B, dtype: float64"
      ]
     },
     "execution_count": 90,
     "metadata": {},
     "output_type": "execute_result"
    }
   ],
   "source": [
    "# test the get_predictions function\n",
    "\n",
    "get_predictions('PLTR', 30)"
   ]
  },
  {
   "cell_type": "code",
   "execution_count": null,
   "metadata": {},
   "outputs": [],
   "source": []
  }
 ],
 "metadata": {
  "kernelspec": {
   "display_name": "Python 3",
   "language": "python",
   "name": "python3"
  },
  "language_info": {
   "codemirror_mode": {
    "name": "ipython",
    "version": 3
   },
   "file_extension": ".py",
   "mimetype": "text/x-python",
   "name": "python",
   "nbconvert_exporter": "python",
   "pygments_lexer": "ipython3",
   "version": "3.12.9"
  }
 },
 "nbformat": 4,
 "nbformat_minor": 2
}
